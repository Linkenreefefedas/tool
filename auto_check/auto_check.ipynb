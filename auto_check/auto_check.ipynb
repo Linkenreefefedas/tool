{
 "cells": [
  {
   "cell_type": "code",
   "execution_count": 80,
   "metadata": {},
   "outputs": [],
   "source": [
    "import subprocess\n",
    "from tqdm import tqdm\n",
    "import os\n",
    "import pandas as pd"
   ]
  },
  {
   "cell_type": "code",
   "execution_count": 2,
   "metadata": {},
   "outputs": [],
   "source": [
    "folder_path=r'C:\\Users\\user\\Documents\\cpp\\2024 程式設計\\2024_final'\n",
    "grade=[]"
   ]
  },
  {
   "cell_type": "code",
   "execution_count": 3,
   "metadata": {},
   "outputs": [
    {
     "name": "stderr",
     "output_type": "stream",
     "text": [
      "Processing:   5%|▍         | 2/43 [00:07<02:49,  4.12s/it]"
     ]
    },
    {
     "name": "stdout",
     "output_type": "stream",
     "text": [
      "Test case timed out for file: 12835-1.c\n"
     ]
    },
    {
     "name": "stderr",
     "output_type": "stream",
     "text": [
      "Processing:  60%|██████    | 26/43 [00:39<00:44,  2.64s/it]"
     ]
    },
    {
     "name": "stdout",
     "output_type": "stream",
     "text": [
      "Test case timed out for file: 67594.c\n"
     ]
    },
    {
     "name": "stderr",
     "output_type": "stream",
     "text": [
      "Processing: 100%|██████████| 43/43 [01:05<00:00,  1.53s/it]\n"
     ]
    }
   ],
   "source": [
    "#第1題\n",
    "index='1'\n",
    "grad_map={}\n",
    "path_want=os.path.join(folder_path,f'{index}')\n",
    "# 測試輸入與輸出\n",
    "test_cases = [\n",
    "    {\"input\": \"13\\n1\\n6\\n7\\n99\\n54\\n999\\n\", \"output\": \"1 6 7 13 54 99\"},\n",
    "    {\"input\": \"3\\n3\\n-1\\n0\\n-2\\n2\\n999\\n\", \"output\": \"-2 -1 0 2 3 3\"},\n",
    "    {\"input\": \"999\\n\", \"output\": \"\"},\n",
    "    {\"input\": \"-999\\n0\\n1\\n2\\n3\\n998\\n999\\n\", \"output\": \"-999 0 1 2 3 998\"}\n",
    "]\n",
    "gap=100/len(test_cases)\n",
    "\n",
    "for file in tqdm(os.listdir(path_want),desc=\"Processing\"):\n",
    "    total=0\n",
    "    if file.endswith(\".c\"):\n",
    "        c_file_path = os.path.join(path_want, file)\n",
    "    else:\n",
    "        continue\n",
    "\n",
    "    try:\n",
    "        # 編譯檔案(.o)\n",
    "        compile_result = subprocess.run([\"gcc\", \"-o\", \"example\", c_file_path],timeout=5)\n",
    "        if compile_result.returncode == 0:\n",
    "            for test_case in test_cases:\n",
    "                try:\n",
    "                    result = subprocess.run(\n",
    "                        [\"./example\"],\n",
    "                        input=test_case[\"input\"],\n",
    "                        capture_output=True,\n",
    "                        text=True,\n",
    "                        timeout=5  # 每個測資超時限制 5 秒\n",
    "                    )\n",
    "                    if result.stdout.strip() == test_case[\"output\"]:\n",
    "                        total += gap\n",
    "                except subprocess.TimeoutExpired:\n",
    "                    print(f\"Test case timed out for file: {file}\")\n",
    "                    total = 0\n",
    "                    break  # 若某個測資超時，直接跳過該檔案\n",
    "            os.remove(\"example.exe\")\n",
    "\n",
    "    except subprocess.TimeoutExpired:\n",
    "        print(f\"Compilation timed out for file: {file}\")\n",
    "    except Exception as e:\n",
    "        print(f\"Error processing file {file}: {e}\")\n",
    "\n",
    "    #增加成績\n",
    "    grad_map[file[:5]]=total\n",
    "\n",
    "grade.append(grad_map)"
   ]
  },
  {
   "cell_type": "code",
   "execution_count": 4,
   "metadata": {},
   "outputs": [
    {
     "name": "stderr",
     "output_type": "stream",
     "text": [
      "Processing:   7%|▋         | 3/42 [00:07<02:00,  3.10s/it]"
     ]
    },
    {
     "name": "stdout",
     "output_type": "stream",
     "text": [
      "Test case timed out for file: 21294-2.c\n"
     ]
    },
    {
     "name": "stderr",
     "output_type": "stream",
     "text": [
      "Processing:  76%|███████▌  | 32/42 [00:35<00:10,  1.08s/it]Exception in thread Thread-588:\n",
      "Traceback (most recent call last):\n",
      "  File \"c:\\Users\\user\\anaconda3\\envs\\py39\\lib\\threading.py\", line 980, in _bootstrap_inner\n",
      "    self.run()\n",
      "  File \"c:\\Users\\user\\anaconda3\\envs\\py39\\lib\\threading.py\", line 917, in run\n",
      "    self._target(*self._args, **self._kwargs)\n",
      "  File \"c:\\Users\\user\\anaconda3\\envs\\py39\\lib\\subprocess.py\", line 1479, in _readerthread\n",
      "    buffer.append(fh.read())\n",
      "  File \"c:\\Users\\user\\anaconda3\\envs\\py39\\lib\\codecs.py\", line 322, in decode\n",
      "    (result, consumed) = self._buffer_decode(data, self.errors, final)\n",
      "UnicodeDecodeError: 'utf-8' codec can't decode byte 0xbf in position 0: invalid start byte\n",
      "Processing:  79%|███████▊  | 33/42 [00:36<00:08,  1.01it/s]"
     ]
    },
    {
     "name": "stdout",
     "output_type": "stream",
     "text": [
      "Error processing file 84713-2.c: 'NoneType' object has no attribute 'strip'\n"
     ]
    },
    {
     "name": "stderr",
     "output_type": "stream",
     "text": [
      "Processing: 100%|██████████| 42/42 [00:47<00:00,  1.13s/it]\n"
     ]
    }
   ],
   "source": [
    "#第2題\n",
    "index='2'\n",
    "grad_map={}\n",
    "path_want=os.path.join(folder_path,f'{index}')\n",
    "# 測試輸入與輸出\n",
    "test_cases = [\n",
    "    {\"input\": \"0 1 3 6 0 1 2 6 7 9 7 4\", \"output\": \"0 1 3 6 0 1 2 6 7 9 7 4 0\"},\n",
    "    {\"input\": \"6 1 3 0 3 1 9 9 7 5 5 4\", \"output\": \"6 1 3 0 3 1 9 9 7 5 5 4 7\"},\n",
    "    {\"input\": \"0 0 0 0 0 0 0 0 0 0 0 0\", \"output\": \"0 0 0 0 0 0 0 0 0 0 0 0 0\"},\n",
    "    {\"input\": \"9 9 9 9 9 9 9 9 9 9 9 9\", \"output\": \"9 9 9 9 9 9 9 9 9 9 9 9 4\"}\n",
    "]\n",
    "gap=100/len(test_cases)\n",
    "\n",
    "for file in tqdm(os.listdir(path_want),desc=\"Processing\"):\n",
    "    total=0\n",
    "    if file.endswith(\".c\"):\n",
    "        c_file_path = os.path.join(path_want, file)\n",
    "    else:\n",
    "        continue\n",
    "\n",
    "    try:\n",
    "        # 編譯檔案(.o)\n",
    "        compile_result = subprocess.run([\"gcc\", \"-o\", \"example\", c_file_path],timeout=5)\n",
    "        if compile_result.returncode == 0:\n",
    "            for test_case in test_cases:\n",
    "                try:\n",
    "                    result = subprocess.run(\n",
    "                        [\"./example\"],\n",
    "                        input=test_case[\"input\"],\n",
    "                        capture_output=True,\n",
    "                        text=True,\n",
    "                        timeout=5  # 每個測資超時限制 5 秒\n",
    "                    )\n",
    "                    if result.stdout.strip() == test_case[\"output\"]:\n",
    "                        total += gap\n",
    "                except subprocess.TimeoutExpired:\n",
    "                    print(f\"Test case timed out for file: {file}\")\n",
    "                    total = 0\n",
    "                    break  # 若某個測資超時，直接跳過該檔案\n",
    "            os.remove(\"example.exe\")\n",
    "\n",
    "    except subprocess.TimeoutExpired:\n",
    "        print(f\"Compilation timed out for file: {file}\")\n",
    "    except Exception as e:\n",
    "        print(f\"Error processing file {file}: {e}\")\n",
    "\n",
    "    #增加成績\n",
    "    grad_map[file[:5]]=total\n",
    "\n",
    "grade.append(grad_map)"
   ]
  },
  {
   "cell_type": "code",
   "execution_count": 5,
   "metadata": {},
   "outputs": [
    {
     "name": "stderr",
     "output_type": "stream",
     "text": [
      "Processing:  12%|█▏        | 5/41 [00:04<00:31,  1.14it/s]Exception in thread Thread-672:\n",
      "Traceback (most recent call last):\n",
      "  File \"c:\\Users\\user\\anaconda3\\envs\\py39\\lib\\threading.py\", line 980, in _bootstrap_inner\n",
      "    self.run()\n",
      "  File \"c:\\Users\\user\\anaconda3\\envs\\py39\\lib\\threading.py\", line 917, in run\n",
      "    self._target(*self._args, **self._kwargs)\n",
      "  File \"c:\\Users\\user\\anaconda3\\envs\\py39\\lib\\subprocess.py\", line 1479, in _readerthread\n",
      "    buffer.append(fh.read())\n",
      "  File \"c:\\Users\\user\\anaconda3\\envs\\py39\\lib\\codecs.py\", line 322, in decode\n",
      "    (result, consumed) = self._buffer_decode(data, self.errors, final)\n",
      "UnicodeDecodeError: 'utf-8' codec can't decode byte 0xa2 in position 92: invalid start byte\n",
      "Processing:  15%|█▍        | 6/41 [00:05<00:30,  1.15it/s]"
     ]
    },
    {
     "name": "stdout",
     "output_type": "stream",
     "text": [
      "Error processing file 26586-3.c: 'NoneType' object has no attribute 'strip'\n"
     ]
    },
    {
     "name": "stderr",
     "output_type": "stream",
     "text": [
      "Processing:  71%|███████   | 29/41 [00:25<00:08,  1.49it/s]"
     ]
    },
    {
     "name": "stdout",
     "output_type": "stream",
     "text": [
      "Error processing file 73533-3.c: [WinError 2] 系統找不到指定的檔案。\n"
     ]
    },
    {
     "name": "stderr",
     "output_type": "stream",
     "text": [
      "Processing:  76%|███████▌  | 31/41 [00:26<00:05,  1.69it/s]Exception in thread Thread-722:\n",
      "Traceback (most recent call last):\n",
      "  File \"c:\\Users\\user\\anaconda3\\envs\\py39\\lib\\threading.py\", line 980, in _bootstrap_inner\n",
      "    self.run()\n",
      "  File \"c:\\Users\\user\\anaconda3\\envs\\py39\\lib\\threading.py\", line 917, in run\n",
      "    self._target(*self._args, **self._kwargs)\n",
      "  File \"c:\\Users\\user\\anaconda3\\envs\\py39\\lib\\subprocess.py\", line 1479, in _readerthread\n",
      "    buffer.append(fh.read())\n",
      "  File \"c:\\Users\\user\\anaconda3\\envs\\py39\\lib\\codecs.py\", line 322, in decode\n",
      "    (result, consumed) = self._buffer_decode(data, self.errors, final)\n",
      "UnicodeDecodeError: 'utf-8' codec can't decode byte 0xb0 in position 0: invalid start byte\n",
      "Processing:  78%|███████▊  | 32/41 [00:27<00:06,  1.30it/s]"
     ]
    },
    {
     "name": "stdout",
     "output_type": "stream",
     "text": [
      "Error processing file 84713-3.c: 'NoneType' object has no attribute 'strip'\n"
     ]
    },
    {
     "name": "stderr",
     "output_type": "stream",
     "text": [
      "Processing: 100%|██████████| 41/41 [00:33<00:00,  1.22it/s]\n"
     ]
    }
   ],
   "source": [
    "#第3題\n",
    "index='3'\n",
    "grad_map={}\n",
    "path_want=os.path.join(folder_path,f'{index}')\n",
    "# 測試輸入與輸出\n",
    "test_cases = [\n",
    "    {\"input\": \"11 22 33 44 55 66 77\", \"output\": \"308\"},\n",
    "]\n",
    "gap=100/len(test_cases)\n",
    "\n",
    "for file in tqdm(os.listdir(path_want),desc=\"Processing\"):\n",
    "    total=0\n",
    "    if file.endswith(\".c\"):\n",
    "        c_file_path = os.path.join(path_want, file)\n",
    "    else:\n",
    "        continue\n",
    "\n",
    "    try:\n",
    "        # 編譯檔案(.o)\n",
    "        compile_result = subprocess.run([\"gcc\", \"-o\", \"example\", c_file_path],timeout=5)\n",
    "        if compile_result.returncode == 0:\n",
    "            for test_case in test_cases:\n",
    "                try:\n",
    "                    result = subprocess.run(\n",
    "                        [\"./example\"],\n",
    "                        input=test_case[\"input\"],\n",
    "                        capture_output=True,\n",
    "                        text=True,\n",
    "                        timeout=5  # 每個測資超時限制 5 秒\n",
    "                    )\n",
    "                    if result.stdout.strip() == test_case[\"output\"]:\n",
    "                        total += gap\n",
    "                except subprocess.TimeoutExpired:\n",
    "                    print(f\"Test case timed out for file: {file}\")\n",
    "                    total = 0\n",
    "                    break  # 若某個測資超時，直接跳過該檔案\n",
    "            os.remove(\"example.exe\")\n",
    "\n",
    "    except subprocess.TimeoutExpired:\n",
    "        print(f\"Compilation timed out for file: {file}\")\n",
    "    except Exception as e:\n",
    "        print(f\"Error processing file {file}: {e}\")\n",
    "\n",
    "    #增加成績\n",
    "    grad_map[file[:5]]=total\n",
    "\n",
    "grade.append(grad_map)"
   ]
  },
  {
   "cell_type": "code",
   "execution_count": 14,
   "metadata": {},
   "outputs": [
    {
     "name": "stderr",
     "output_type": "stream",
     "text": [
      "Processing:   5%|▌         | 2/37 [00:01<00:17,  1.95it/s]"
     ]
    },
    {
     "name": "stdout",
     "output_type": "stream",
     "text": [
      "Error processing file 18889-4.c: [WinError 2] 系統找不到指定的檔案。\n"
     ]
    },
    {
     "name": "stderr",
     "output_type": "stream",
     "text": [
      "Processing:   8%|▊         | 3/37 [00:06<01:39,  2.92s/it]"
     ]
    },
    {
     "name": "stdout",
     "output_type": "stream",
     "text": [
      "Test case timed out for file: 21353-4.c\n"
     ]
    },
    {
     "name": "stderr",
     "output_type": "stream",
     "text": [
      "Processing:  27%|██▋       | 10/37 [00:17<01:07,  2.50s/it]"
     ]
    },
    {
     "name": "stdout",
     "output_type": "stream",
     "text": [
      "Test case timed out for file: 33414-4.c\n"
     ]
    },
    {
     "name": "stderr",
     "output_type": "stream",
     "text": [
      "Processing: 100%|██████████| 37/37 [00:41<00:00,  1.12s/it]\n"
     ]
    }
   ],
   "source": [
    "#第4題\n",
    "index='4'\n",
    "grad_map={}\n",
    "path_want=os.path.join(folder_path,f'{index}')\n",
    "# 測試輸入與輸出\n",
    "test_cases = [\n",
    "    {\"input\": \"Banana\\nGrape\\nOrange\\nPineapple\\nKiwi\\nPineapple\", \"output\": \"3\"},\n",
    "    {\"input\": \"Banana\\nBanana\\nOrange\\nBanana\\nKiwi\\nBanana\", \"output\": \"0 1 3\"},\n",
    "    {\"input\": \"Banana\\nGrape\\nOrange\\nPineapple\\nKiwi\\nApple\", \"output\": \"-1\"},\n",
    "    {\"input\": \"a\\na\\na\\na\\na\\nA\", \"output\": \"-1\"},\n",
    "    {\"input\": \"a\\na\\na\\na\\na\\na\", \"output\": \"0 1 2 3 4\"}\n",
    "]\n",
    "gap=100/len(test_cases)\n",
    "\n",
    "for file in tqdm(os.listdir(path_want),desc=\"Processing\"):\n",
    "    total=0\n",
    "    if file.endswith(\".c\"):\n",
    "        c_file_path = os.path.join(path_want, file)\n",
    "    else:\n",
    "        continue\n",
    "\n",
    "    try:\n",
    "        # 編譯檔案(.o)\n",
    "        compile_result = subprocess.run([\"gcc\", \"-o\", \"example\", c_file_path],timeout=5)\n",
    "        if compile_result.returncode == 0:\n",
    "            for test_case in test_cases:\n",
    "                try:\n",
    "                    result = subprocess.run(\n",
    "                        [\"./example\"],\n",
    "                        input=test_case[\"input\"],\n",
    "                        capture_output=True,\n",
    "                        text=True,\n",
    "                        timeout=5  # 每個測資超時限制 5 秒\n",
    "                    )\n",
    "                    if result.stdout.strip() == test_case[\"output\"]:\n",
    "                        total += gap\n",
    "                except subprocess.TimeoutExpired:\n",
    "                    print(f\"Test case timed out for file: {file}\")\n",
    "                    total = 0\n",
    "                    break  # 若某個測資超時，直接跳過該檔案\n",
    "            os.remove(\"example.exe\")\n",
    "\n",
    "    except subprocess.TimeoutExpired:\n",
    "        print(f\"Compilation timed out for file: {file}\")\n",
    "    except Exception as e:\n",
    "        print(f\"Error processing file {file}: {e}\")\n",
    "\n",
    "    #增加成績\n",
    "    grad_map[file[:5]]=total\n",
    "\n",
    "grade.append(grad_map)"
   ]
  },
  {
   "cell_type": "code",
   "execution_count": 25,
   "metadata": {},
   "outputs": [
    {
     "name": "stderr",
     "output_type": "stream",
     "text": [
      "Processing:  37%|███▋      | 14/38 [00:18<01:08,  2.84s/it]"
     ]
    },
    {
     "name": "stdout",
     "output_type": "stream",
     "text": [
      "Test case timed out for file: 45192-5.c\n"
     ]
    },
    {
     "name": "stderr",
     "output_type": "stream",
     "text": [
      "Processing: 100%|██████████| 38/38 [00:40<00:00,  1.07s/it]\n"
     ]
    }
   ],
   "source": [
    "#第5題\n",
    "index='5'\n",
    "grad_map={}\n",
    "path_want=os.path.join(folder_path,f'{index}')\n",
    "# 測試輸入與輸出\n",
    "test_cases = [\n",
    "    {\"input\": \"3 4\\n5 6\\n7 8\\n9 10 11 12\\n13 14 15 16\", \"output\": \"79 86 93 100 \\n123 134 145 156 \\n167 182 197 212\"},\n",
    "    {\"input\": \"1 1\\n2 2\\n3 3\\n1 1 1 1\\n2 2 2 2\", \"output\": \"3 3 3 3 \\n6 6 6 6 \\n9 9 9 9\"},\n",
    "    {\"input\": \"-1 -1\\n-2 -2\\n-3 -3\\n-1 -1 -1 -1\\n-2 -2 -2 2\", \"output\": \"3 3 3 -1 \\n6 6 6 -2 \\n9 9 9 -3\"},\n",
    "    {\"input\": \"0 0\\n0 0\\n0 0\\n0 0 0 0\\n0 0 0 0\", \"output\": \"0 0 0 0 \\n0 0 0 0 \\n0 0 0 0\"}\n",
    "]\n",
    "gap=100/len(test_cases)\n",
    "\n",
    "for file in tqdm(os.listdir(path_want),desc=\"Processing\"):\n",
    "    total=0\n",
    "    if file.endswith(\".c\"):\n",
    "        c_file_path = os.path.join(path_want, file)\n",
    "    else:\n",
    "        continue\n",
    "\n",
    "    try:\n",
    "        # 編譯檔案(.o)\n",
    "        compile_result = subprocess.run([\"gcc\", \"-o\", \"example\", c_file_path],timeout=5)\n",
    "        if compile_result.returncode == 0:\n",
    "            for test_case in test_cases:\n",
    "                try:\n",
    "                    result = subprocess.run(\n",
    "                        [\"./example\"],\n",
    "                        input=test_case[\"input\"],\n",
    "                        capture_output=True,\n",
    "                        text=True,\n",
    "                        timeout=5  # 每個測資超時限制 5 秒\n",
    "                    )\n",
    "                    if result.stdout.strip() == test_case[\"output\"]:\n",
    "                        total += gap\n",
    "                except subprocess.TimeoutExpired:\n",
    "                    print(f\"Test case timed out for file: {file}\")\n",
    "                    total = 0\n",
    "                    break  # 若某個測資超時，直接跳過該檔案\n",
    "            os.remove(\"example.exe\")\n",
    "\n",
    "    except subprocess.TimeoutExpired:\n",
    "        print(f\"Compilation timed out for file: {file}\")\n",
    "    except Exception as e:\n",
    "        print(f\"Error processing file {file}: {e}\")\n",
    "\n",
    "    #增加成績\n",
    "    grad_map[file[:5]]=total\n",
    "\n",
    "grade.append(grad_map)"
   ]
  },
  {
   "cell_type": "code",
   "execution_count": null,
   "metadata": {},
   "outputs": [
    {
     "name": "stdout",
     "output_type": "stream",
     "text": [
      "100.0\n"
     ]
    }
   ],
   "source": [
    "#只測試1人\n",
    "test_cases = [\n",
    "    {\"input\": \"3 4\\n5 6\\n7 8\\n9 10 11 12\\n13 14 15 16\", \"output\": \"79 86 93 100 \\n123 134 145 156 \\n167 182 197 212\"},\n",
    "    {\"input\": \"1 1\\n2 2\\n3 3\\n1 1 1 1\\n2 2 2 2\", \"output\": \"3 3 3 3 \\n6 6 6 6 \\n9 9 9 9\"},\n",
    "    {\"input\": \"-1 -1\\n-2 -2\\n-3 -3\\n-1 -1 -1 -1\\n-2 -2 -2 2\", \"output\": \"3 3 3 -1 \\n6 6 6 -2 \\n9 9 9 -3\"},\n",
    "    {\"input\": \"0 0\\n0 0\\n0 0\\n0 0 0 0\\n0 0 0 0\", \"output\": \"0 0 0 0 \\n0 0 0 0 \\n0 0 0 0\"}\n",
    "]\n",
    "#test_one=r\"C:\\Users\\user\\Documents\\cpp\\1.c\"\n",
    "test_one=r\"C:\\Users\\user\\Documents\\cpp\\2024 程式設計\\2024_final\\5\\11229-5.c\"\n",
    "compile_result = subprocess.run([\"gcc\", \"-o\", \"example\", test_one],timeout=5)\n",
    "total=0\n",
    "gap=100/len(test_cases)\n",
    "if compile_result.returncode == 0:\n",
    "    for test_case in test_cases:\n",
    "        try:\n",
    "            result = subprocess.run(\n",
    "                [\"./example\"],\n",
    "                input=test_case[\"input\"],\n",
    "                capture_output=True,\n",
    "                text=True,\n",
    "                timeout=5  # 每個測資超時限制 5 秒\n",
    "            )\n",
    "            if result.stdout.strip() == test_case[\"output\"]:\n",
    "                total += gap\n",
    "        except subprocess.TimeoutExpired:\n",
    "            print(f\"Test case timed out for file: {file}\")\n",
    "            total = 0\n",
    "            break  # 若某個測資超時，直接跳過該檔案\n",
    "    os.remove(\"example.exe\")\n",
    "\n",
    "print(total)"
   ]
  },
  {
   "cell_type": "code",
   "execution_count": 73,
   "metadata": {},
   "outputs": [],
   "source": [
    "#生成成績單\n",
    "all_student_ids = set()\n",
    "for question in grade:\n",
    "    for student_id in list(question.keys()):\n",
    "        all_student_ids.add(student_id)"
   ]
  },
  {
   "cell_type": "code",
   "execution_count": 74,
   "metadata": {},
   "outputs": [],
   "source": [
    "all_student_ids=list(all_student_ids)\n",
    "all_student_ids.sort()"
   ]
  },
  {
   "cell_type": "code",
   "execution_count": 75,
   "metadata": {},
   "outputs": [],
   "source": [
    "columns = [\"學號\", \"1\", \"2\", \"3\", \"4\", \"5\"]\n",
    "df = pd.DataFrame(columns=columns)\n",
    "# 填入學號\n",
    "df[\"學號\"] = all_student_ids"
   ]
  },
  {
   "cell_type": "code",
   "execution_count": 76,
   "metadata": {},
   "outputs": [],
   "source": [
    "# 填入成績\n",
    "for i in range(int(index)):\n",
    "    column_name = str(i+1)  # 題目編號列\n",
    "    for id in all_student_ids:\n",
    "        try:\n",
    "            df.loc[df[\"學號\"] == id, column_name]=grade[i][id]\n",
    "        except:\n",
    "            df.loc[df[\"學號\"] == id, column_name]=0"
   ]
  },
  {
   "cell_type": "code",
   "execution_count": null,
   "metadata": {},
   "outputs": [],
   "source": [
    "df.to_excel(os.path.join(folder_path,\"程式設計(一)AC_期末考成績.xlsx\"), index=False)\n",
    "df"
   ]
  },
  {
   "cell_type": "code",
   "execution_count": null,
   "metadata": {},
   "outputs": [],
   "source": []
  }
 ],
 "metadata": {
  "kernelspec": {
   "display_name": "py39",
   "language": "python",
   "name": "python3"
  },
  "language_info": {
   "codemirror_mode": {
    "name": "ipython",
    "version": 3
   },
   "file_extension": ".py",
   "mimetype": "text/x-python",
   "name": "python",
   "nbconvert_exporter": "python",
   "pygments_lexer": "ipython3",
   "version": "3.9.16"
  }
 },
 "nbformat": 4,
 "nbformat_minor": 2
}
