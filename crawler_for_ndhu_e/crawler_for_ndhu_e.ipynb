{
 "cells": [
  {
   "cell_type": "code",
   "execution_count": 130,
   "metadata": {},
   "outputs": [],
   "source": [
    "from selenium import webdriver\n",
    "from selenium.webdriver.common.by import By\n",
    "import time\n",
    "from urllib.parse import urlparse, parse_qs\n",
    "from bs4 import BeautifulSoup\n",
    "from tqdm import tqdm"
   ]
  },
  {
   "cell_type": "code",
   "execution_count": null,
   "metadata": {},
   "outputs": [],
   "source": [
    "# 篩選出 <a> 並檢查 title 是否以 \".c\" 結尾\n",
    "def has_title_ending_with_c(tag):\n",
    "    return tag.name == \"a\" and tag.has_attr(\"title\") and tag[\"title\"].endswith(\".c\")\n",
    "\n",
    "def has_href_ending_with_c(tag):\n",
    "    return tag.name == \"a\" and tag.has_attr(\"href\") and tag[\"href\"].endswith(\".c\")"
   ]
  },
  {
   "cell_type": "markdown",
   "metadata": {},
   "source": [
    "### 參考[chromedriver](https://github.com/dreamshao/chromedriver)下載適合你的chrome版本"
   ]
  },
  {
   "cell_type": "code",
   "execution_count": 131,
   "metadata": {},
   "outputs": [
    {
     "name": "stderr",
     "output_type": "stream",
     "text": [
      "C:\\Users\\user\\AppData\\Local\\Temp\\ipykernel_18484\\2940671160.py:3: DeprecationWarning: executable_path has been deprecated, please pass in a Service object\n",
      "  driver = webdriver.Chrome(executable_path=driver_path)\n"
     ]
    }
   ],
   "source": [
    "#開啟網站\n",
    "driver_path = r\"C:\\Users\\user\\.wdm\\drivers\\chromedriver\\win32\\131.0.6778.69\\chromedriver.exe\"\n",
    "driver = webdriver.Chrome(executable_path=driver_path)\n",
    "driver.get(\"http://www.elearn.ndhu.edu.tw/moodle/login/index.php\")\n",
    "time.sleep(3)"
   ]
  },
  {
   "cell_type": "code",
   "execution_count": null,
   "metadata": {},
   "outputs": [],
   "source": [
    "#創文件夾1~10\n",
    "import os\n",
    "folder_path=r'C:\\Users\\user\\Documents\\cpp\\2024 程式設計\\2024_final'\n",
    "# add new folder in folder_path\n",
    "for i in range(1,11):\n",
    "    folder_name=f'{i}'\n",
    "    folder=os.path.join(folder_path,folder_name)\n",
    "    if not os.path.exists(folder):\n",
    "        os.makedirs(folder)"
   ]
  },
  {
   "cell_type": "markdown",
   "metadata": {},
   "source": [
    "### chrome setting(必做)\n",
    "* 1.進入chrome://settings/content/siteDetails?site=http%3A%2F%2Fwww.elearn.ndhu.edu.tw，\"自動下載\"改成允許、\"不安全內容\"改成允許\n",
    "\n",
    "* 2.進入chrome://settings/downloads，改變下載路徑為folder_path"
   ]
  },
  {
   "cell_type": "code",
   "execution_count": 4,
   "metadata": {},
   "outputs": [],
   "source": [
    "#資訊\n",
    "usser=input(\"帳戶:\")\n",
    "password=input(\"密碼:\")"
   ]
  },
  {
   "cell_type": "code",
   "execution_count": 132,
   "metadata": {},
   "outputs": [],
   "source": [
    "#輸入帳密\n",
    "username_input = driver.find_element(By.NAME, \"username\")\n",
    "password_input = driver.find_element(By.NAME, \"password\")\n",
    "username_input.send_keys(usser)\n",
    "password_input.send_keys(password)"
   ]
  },
  {
   "cell_type": "code",
   "execution_count": 133,
   "metadata": {},
   "outputs": [],
   "source": [
    "#登入\n",
    "login_button = driver.find_element(By.XPATH, '//input[@type=\"submit\" and @value=\"登入 \"]')\n",
    "login_button.click()"
   ]
  },
  {
   "cell_type": "code",
   "execution_count": 134,
   "metadata": {},
   "outputs": [],
   "source": [
    "#點擊 \"+\" 按鈕\n",
    "plus_button = driver.find_element(By.XPATH, '//img[@src=\"http://www.elearn.ndhu.edu.tw/moodle/blocks/myCourses/HTML_TreeMenu-1.2.0/images/plusbottom.gif\"]')\n",
    "plus_button.click()\n",
    "time.sleep(2)"
   ]
  },
  {
   "cell_type": "code",
   "execution_count": 135,
   "metadata": {},
   "outputs": [],
   "source": [
    "#點擊課程名稱 \"CSIE1040AC-程式設計(一)AC-113上\"\n",
    "course_link = driver.find_element(By.XPATH, '//span[text()=\"CSIE1040AC-程式設計(一)AC-113上\"]')\n",
    "course_link.click()\n",
    "time.sleep(2)"
   ]
  },
  {
   "cell_type": "code",
   "execution_count": 136,
   "metadata": {},
   "outputs": [],
   "source": [
    "#點擊 \"作業\" 選項\n",
    "assignment_link = driver.find_element(By.XPATH, '//li[@class=\"r0\"]//a[text()=\"作業\"]')\n",
    "assignment_link.click()\n",
    "time.sleep(2) "
   ]
  },
  {
   "cell_type": "code",
   "execution_count": null,
   "metadata": {},
   "outputs": [],
   "source": [
    "html = driver.page_source\n",
    "soup = BeautifulSoup(html, \"html.parser\")\n",
    "soup"
   ]
  },
  {
   "cell_type": "code",
   "execution_count": 196,
   "metadata": {},
   "outputs": [],
   "source": [
    "#手動填寫題目資訊(事先寫好也行，邏輯還可更自動化)\n",
    "id=[]#按f12找  觸 檢視n份已繳交作業\n",
    "for i in range(698463,698473):\n",
    "    id.append(str(i))\n",
    "text=[]#份數\n",
    "text=['73','76','55','67','75','71','62','64','58','58']"
   ]
  },
  {
   "cell_type": "code",
   "execution_count": null,
   "metadata": {},
   "outputs": [],
   "source": [
    "for i in range(10):\n",
    "\n",
    "    view_submissions = driver.find_element(By.XPATH, f'//a[contains(@href, \"submissions.php?id={id[i]}\") and text()=\"檢視 {text[i]} 份已繳交的作業\"]')\n",
    "    view_submissions.click()\n",
    "\n",
    "    time.sleep(2)\n",
    "    html = driver.page_source\n",
    "    soup = BeautifulSoup(html, \"html.parser\")\n",
    "    result = soup.find_all(has_title_ending_with_c)\n",
    "\n",
    "    for tag in tqdm(result,desc=\"Processing\"):\n",
    "        url = tag.get('href', None)\n",
    "        # 解析 URL\n",
    "        parsed_url = urlparse(url)\n",
    "        query_params = parse_qs(parsed_url.query)\n",
    "\n",
    "        # 提取 userid 和 file\n",
    "        userid = query_params.get('userid', [None])[0]\n",
    "        file = query_params.get('file', [None])[0]\n",
    "\n",
    "        #點取.c\n",
    "        c_file_link = driver.find_element(By.XPATH, f'//a[@title=\"{file}\" and contains(@href, \"userid={userid}\")]')\n",
    "        c_file_link.click()\n",
    "        \n",
    "        #處理新視窗\n",
    "        time.sleep(2)\n",
    "        windows = driver.window_handles\n",
    "        driver.switch_to.window(windows[1])\n",
    "        html = driver.page_source\n",
    "        soup = BeautifulSoup(html, \"html.parser\")\n",
    "\n",
    "        result2 = soup.find_all(has_href_ending_with_c)\n",
    "        url2=result2[0].get('href', None)\n",
    "        \n",
    "        #download\n",
    "        download_link = driver.find_element(By.XPATH, f'//a[contains(@href, \"{url2}\")]')\n",
    "        download_link.click()\n",
    "\n",
    "        #關掉新視窗 回到原本的\n",
    "        driver.close()\n",
    "        driver.switch_to.window(windows[0])\n",
    "        #time.sleep(2)\n",
    "    #回上頁\n",
    "    driver.back()"
   ]
  },
  {
   "cell_type": "code",
   "execution_count": null,
   "metadata": {},
   "outputs": [],
   "source": [
    "#移位\n",
    "import shutil\n",
    "for file in os.listdir(folder_path):\n",
    "    if file.endswith(\".c\"):\n",
    "        number=file.split(\".c\")[0][-1]\n",
    "        file_path=os.path.join(folder_path,file)\n",
    "        #move file to folder\n",
    "        if number=='0':\n",
    "            number='10'\n",
    "        shutil.move(file_path, os.path.join(folder_path,number,file))"
   ]
  },
  {
   "cell_type": "code",
   "execution_count": null,
   "metadata": {},
   "outputs": [],
   "source": [
    "#檢查\n",
    "for folder in os.listdir(folder_path):\n",
    "    path=os.path.join(folder_path,folder)\n",
    "    files=os.listdir(path)\n",
    "    print(f\"第{folder}題有: {len(files)} 個人繳交\")"
   ]
  },
  {
   "cell_type": "code",
   "execution_count": null,
   "metadata": {},
   "outputs": [],
   "source": []
  }
 ],
 "metadata": {
  "kernelspec": {
   "display_name": "torch2",
   "language": "python",
   "name": "python3"
  },
  "language_info": {
   "codemirror_mode": {
    "name": "ipython",
    "version": 3
   },
   "file_extension": ".py",
   "mimetype": "text/x-python",
   "name": "python",
   "nbconvert_exporter": "python",
   "pygments_lexer": "ipython3",
   "version": "3.11.8"
  }
 },
 "nbformat": 4,
 "nbformat_minor": 2
}
